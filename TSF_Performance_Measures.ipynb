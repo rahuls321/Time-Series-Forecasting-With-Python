{
  "nbformat": 4,
  "nbformat_minor": 0,
  "metadata": {
    "colab": {
      "name": "TSF Performance Measures.ipynb",
      "provenance": [],
      "authorship_tag": "ABX9TyO6OrubXCs5cnk+myU65Oay",
      "include_colab_link": true
    },
    "kernelspec": {
      "name": "python3",
      "display_name": "Python 3"
    }
  },
  "cells": [
    {
      "cell_type": "markdown",
      "metadata": {
        "id": "view-in-github",
        "colab_type": "text"
      },
      "source": [
        "<a href=\"https://colab.research.google.com/github/rahuls321/Time-Series-Forecasting-With-Python/blob/master/TSF_Performance_Measures.ipynb\" target=\"_parent\"><img src=\"https://colab.research.google.com/assets/colab-badge.svg\" alt=\"Open In Colab\"/></a>"
      ]
    },
    {
      "cell_type": "markdown",
      "metadata": {
        "id": "TQwQ9dxMN7jc"
      },
      "source": [
        "##Forecast Errors (or Residual Forecast Errors)\n",
        "\n",
        "forecast_error = expected_value - predicted_value\n"
      ]
    },
    {
      "cell_type": "code",
      "metadata": {
        "id": "d93prAPFOABd",
        "outputId": "c6ed71c5-022e-4f60-a292-f439592bd496",
        "colab": {
          "base_uri": "https://localhost:8080/",
          "height": 33
        }
      },
      "source": [
        "expected = [0.0, 0.5, 0.0, 0.5, 0.0]\n",
        "predictions = [0.2, 0.4, 0.1, 0.6, 0.2]\n",
        "forecast_errors = [expected[i]-predictions[i] for i in range(len(expected))]\n",
        "print('Forecast Errors: %s' % forecast_errors)"
      ],
      "execution_count": 1,
      "outputs": [
        {
          "output_type": "stream",
          "text": [
            "Forecast Errors: [-0.2, 0.09999999999999998, -0.1, -0.09999999999999998, -0.2]\n"
          ],
          "name": "stdout"
        }
      ]
    },
    {
      "cell_type": "markdown",
      "metadata": {
        "id": "jhXcuDyPOXQt"
      },
      "source": [
        "##Mean Forecast Error (or Forecast Bias)\n",
        "\n",
        "mean_forecast_error = mean(forecast_error)\n",
        "\n",
        "The mean forecast error is also called the forecast bias."
      ]
    },
    {
      "cell_type": "code",
      "metadata": {
        "id": "XaRAS4UvOMbo",
        "outputId": "51a06d8e-e03b-496d-b436-fed3e916587a",
        "colab": {
          "base_uri": "https://localhost:8080/",
          "height": 33
        }
      },
      "source": [
        "expected = [0.0, 0.5, 0.0, 0.5, 0.0]\n",
        "predictions = [0.2, 0.4, 0.1, 0.6, 0.2]\n",
        "forecast_errors = [expected[i]-predictions[i] for i in range(len(expected))]\n",
        "bias = sum(forecast_errors) * 1.0/len(expected)\n",
        "print('Bias: %f' % bias)"
      ],
      "execution_count": 2,
      "outputs": [
        {
          "output_type": "stream",
          "text": [
            "Bias: -0.100000\n"
          ],
          "name": "stdout"
        }
      ]
    },
    {
      "cell_type": "markdown",
      "metadata": {
        "id": "9VK3CwIfO6_m"
      },
      "source": [
        "In this case the result is negative, meaning that we have over forecast."
      ]
    },
    {
      "cell_type": "markdown",
      "metadata": {
        "id": "jcecjw_MPAXq"
      },
      "source": [
        "##Mean Absolute Error\n",
        "\n",
        "The mean absolute error, or MAE, is calculated as the average of the forecast error values, where all of the forecast error values are forced to be positive.\n",
        "\n",
        "mean_absolute_error = mean( abs(forecast_error) )\n"
      ]
    },
    {
      "cell_type": "code",
      "metadata": {
        "id": "fNgpmfZkOd8c",
        "outputId": "b573fafc-e9f0-4640-9bdd-f349c983efe6",
        "colab": {
          "base_uri": "https://localhost:8080/",
          "height": 33
        }
      },
      "source": [
        "from sklearn.metrics import mean_absolute_error\n",
        "expected = [0.0, 0.5, 0.0, 0.5, 0.0]\n",
        "predictions = [0.2, 0.4, 0.1, 0.6, 0.2]\n",
        "mae = mean_absolute_error(expected, predictions)\n",
        "print('MAE: %f' % mae)"
      ],
      "execution_count": 3,
      "outputs": [
        {
          "output_type": "stream",
          "text": [
            "MAE: 0.140000\n"
          ],
          "name": "stdout"
        }
      ]
    },
    {
      "cell_type": "markdown",
      "metadata": {
        "id": "Fga7dP7UPdQA"
      },
      "source": [
        "##Mean Squared Error\n",
        "\n",
        "The mean squared error, or MSE, is calculated as the average of the squared forecast error values. Squaring the forecast error values forces them to be positive; it also has the effect of putting more weight on large errors.\n",
        "\n",
        "mean_squared_error = mean(forecast_error^2)"
      ]
    },
    {
      "cell_type": "code",
      "metadata": {
        "id": "H4cOrpXnPWE3",
        "outputId": "c260e931-f102-4b56-cb8a-7e963b53be66",
        "colab": {
          "base_uri": "https://localhost:8080/",
          "height": 33
        }
      },
      "source": [
        "from sklearn.metrics import mean_squared_error\n",
        "expected = [0.0, 0.5, 0.0, 0.5, 0.0]\n",
        "predictions = [0.2, 0.4, 0.1, 0.6, 0.2]\n",
        "mse = mean_squared_error(expected, predictions)\n",
        "print('MSE: %f' % mse)"
      ],
      "execution_count": 4,
      "outputs": [
        {
          "output_type": "stream",
          "text": [
            "MSE: 0.022000\n"
          ],
          "name": "stdout"
        }
      ]
    },
    {
      "cell_type": "markdown",
      "metadata": {
        "id": "SDC-Ie8bPujU"
      },
      "source": [
        "##Root Mean Squared Error\n",
        "\n",
        "The mean squared error described above is in the squared units of the predictions.\n",
        "\n",
        "rmse = sqrt(mean_squared_error)"
      ]
    },
    {
      "cell_type": "code",
      "metadata": {
        "id": "XYzt0cLGPpWh",
        "outputId": "9f884ac8-0b57-44b7-b794-f5df8e715743",
        "colab": {
          "base_uri": "https://localhost:8080/",
          "height": 33
        }
      },
      "source": [
        "from sklearn.metrics import mean_squared_error\n",
        "from math import sqrt\n",
        "expected = [0.0, 0.5, 0.0, 0.5, 0.0]\n",
        "predictions = [0.2, 0.4, 0.1, 0.6, 0.2]\n",
        "mse = mean_squared_error(expected, predictions)\n",
        "rmse = sqrt(mse)\n",
        "print('RMSE: %f' % rmse)"
      ],
      "execution_count": 5,
      "outputs": [
        {
          "output_type": "stream",
          "text": [
            "RMSE: 0.148324\n"
          ],
          "name": "stdout"
        }
      ]
    },
    {
      "cell_type": "code",
      "metadata": {
        "id": "0qZ9U3xfP3ls"
      },
      "source": [
        ""
      ],
      "execution_count": null,
      "outputs": []
    }
  ]
}