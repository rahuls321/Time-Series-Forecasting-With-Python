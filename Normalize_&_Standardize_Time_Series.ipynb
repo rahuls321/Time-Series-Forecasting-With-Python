{
  "nbformat": 4,
  "nbformat_minor": 0,
  "metadata": {
    "colab": {
      "name": "Normalize & Standardize Time Series.ipynb",
      "provenance": [],
      "authorship_tag": "ABX9TyMxQ1woodMPp6jVVaHE+YRW",
      "include_colab_link": true
    },
    "kernelspec": {
      "name": "python3",
      "display_name": "Python 3"
    }
  },
  "cells": [
    {
      "cell_type": "markdown",
      "metadata": {
        "id": "view-in-github",
        "colab_type": "text"
      },
      "source": [
        "<a href=\"https://colab.research.google.com/github/rahuls321/Time-Series-Forecasting-With-Python/blob/master/Normalize_%26_Standardize_Time_Series.ipynb\" target=\"_parent\"><img src=\"https://colab.research.google.com/assets/colab-badge.svg\" alt=\"Open In Colab\"/></a>"
      ]
    },
    {
      "cell_type": "code",
      "metadata": {
        "id": "tuIrA_tyTgW8",
        "outputId": "8ccb8d10-52bf-4369-81ef-e195801ab784",
        "colab": {
          "base_uri": "https://localhost:8080/",
          "height": 33
        }
      },
      "source": [
        "from google.colab import drive\n",
        "drive.mount('/content/gdrive')"
      ],
      "execution_count": 1,
      "outputs": [
        {
          "output_type": "stream",
          "text": [
            "Mounted at /content/gdrive\n"
          ],
          "name": "stdout"
        }
      ]
    },
    {
      "cell_type": "code",
      "metadata": {
        "id": "85reMHoHTxh-",
        "outputId": "b3dbbb6a-7a7e-47d8-b763-27638bd1171b",
        "colab": {
          "base_uri": "https://localhost:8080/",
          "height": 382
        }
      },
      "source": [
        "from pandas import read_csv\n",
        "from matplotlib import pyplot\n",
        "series = read_csv('gdrive/My Drive/Colab Notebooks/Forecasting_Datasets/daily-min-temperatures.csv', header=0, parse_dates =[\"Date\"], index_col =\"Date\")\n",
        "print(series.head())\n",
        "series.plot()\n",
        "pyplot.show()"
      ],
      "execution_count": 2,
      "outputs": [
        {
          "output_type": "stream",
          "text": [
            "            Temp\n",
            "Date            \n",
            "1981-01-01  20.7\n",
            "1981-01-02  17.9\n",
            "1981-01-03  18.8\n",
            "1981-01-04  14.6\n",
            "1981-01-05  15.8\n"
          ],
          "name": "stdout"
        },
        {
          "output_type": "display_data",
          "data": {
            "image/png": "[encoded data removed]",
            "text/plain": [
              "<Figure size 432x288 with 1 Axes>"
            ]
          },
          "metadata": {
            "tags": [],
            "needs_background": "light"
          }
        }
      ]
    },
    {
      "cell_type": "markdown",
      "metadata": {
        "id": "RHJVzLI3V6KB"
      },
      "source": [
        "##Normalization of time series data\n",
        "\n",
        "Normalization is a rescaling of the data from the original range so that all values are within the range of 0 and 1.\n",
        "\n",
        "y = (x - min) / (max - min)"
      ]
    },
    {
      "cell_type": "code",
      "metadata": {
        "id": "yW-OUaqhUKsC",
        "outputId": "37673613-23e6-4de2-8ccc-d071382419bc",
        "colab": {
          "base_uri": "https://localhost:8080/",
          "height": 228
        }
      },
      "source": [
        "from sklearn.preprocessing import MinMaxScaler\n",
        "# prepare data for normalization\n",
        "values = series.values\n",
        "values = values.reshape((len(values), 1))\n",
        "# train the normalization\n",
        "scaler = MinMaxScaler(feature_range=(0, 1))\n",
        "scaler = scaler.fit(values)\n",
        "print('Min: %f, Max: %f' % (scaler.data_min_, scaler.data_max_))\n",
        "# normalize the dataset and print the first 5 rows\n",
        "normalized = scaler.transform(values)\n",
        "print(\"Normalized Data\")\n",
        "for i in range(5):\n",
        "\tprint(normalized[i])\n",
        "# inverse transform and print the first 5 rows\n",
        "inversed = scaler.inverse_transform(normalized)\n",
        "print(\"Original Data after inverse transformation\")\n",
        "for i in range(5):\n",
        "\tprint(inversed[i])"
      ],
      "execution_count": 5,
      "outputs": [
        {
          "output_type": "stream",
          "text": [
            "Min: 0.000000, Max: 26.300000\n",
            "Normalized Data\n",
            "[0.78707224]\n",
            "[0.68060837]\n",
            "[0.7148289]\n",
            "[0.55513308]\n",
            "[0.60076046]\n",
            "Original Data after inverse transformation\n",
            "[20.7]\n",
            "[17.9]\n",
            "[18.8]\n",
            "[14.6]\n",
            "[15.8]\n"
          ],
          "name": "stdout"
        }
      ]
    },
    {
      "cell_type": "markdown",
      "metadata": {
        "id": "pruWLZ8cXlyK"
      },
      "source": [
        "##Standardize the data\n",
        "\n",
        "It is more robust to new values being outside the range of expected values.\n",
        "Standardizing a dataset involves rescaling the distribution of values so that the mean of observed values is 0 and the standard deviation is 1. \n",
        "\n",
        "It assumes that your observations fit a Gaussian distribution (bell curve) with a well behaved mean and standard deviation.\n",
        "\n",
        "This includes algorithms like Support Vector Machines, Linear and Logistic Regression, and other algorithms that assume or have improved performance with Gaussian data.\n",
        "\n",
        "y = (x - mean) / standard_deviation\n",
        "\n",
        "mean = sum(x) / count(x)\n",
        "\n",
        "standard_deviation = sqrt( sum( (x - mean)^2 ) / count(x))"
      ]
    },
    {
      "cell_type": "code",
      "metadata": {
        "id": "zt57R2buWUT3",
        "outputId": "780f31ee-9e9c-43b8-fa79-abd93ae27b64",
        "colab": {
          "base_uri": "https://localhost:8080/",
          "height": 281
        }
      },
      "source": [
        "series.hist()\n",
        "pyplot.show()"
      ],
      "execution_count": 6,
      "outputs": [
        {
          "output_type": "display_data",
          "data": {
            "image/png": "[encoded data removed]",
            "text/plain": [
              "<Figure size 432x288 with 1 Axes>"
            ]
          },
          "metadata": {
            "tags": [],
            "needs_background": "light"
          }
        }
      ]
    },
    {
      "cell_type": "code",
      "metadata": {
        "id": "ABXLktr9Y_en",
        "outputId": "772374ea-f3ec-4492-8df7-efae1df5aff7",
        "colab": {
          "base_uri": "https://localhost:8080/",
          "height": 228
        }
      },
      "source": [
        "from sklearn.preprocessing import StandardScaler\n",
        "from math import sqrt\n",
        "\n",
        "# prepare data for standardization\n",
        "values = series.values\n",
        "values = values.reshape((len(values), 1))\n",
        "# train the standardization\n",
        "scaler = StandardScaler()\n",
        "scaler = scaler.fit(values)\n",
        "print('Mean: %f, StandardDeviation: %f' % (scaler.mean_, sqrt(scaler.var_)))\n",
        "# standardization the dataset and print the first 5 rows\n",
        "normalized = scaler.transform(values)\n",
        "print(\"Standardize data\")\n",
        "for i in range(5):\n",
        "\tprint(normalized[i])\n",
        "# inverse transform and print the first 5 rows\n",
        "inversed = scaler.inverse_transform(normalized)\n",
        "print(\"Original Data after inverse transformation\")\n",
        "for i in range(5):\n",
        "\tprint(inversed[i])"
      ],
      "execution_count": 10,
      "outputs": [
        {
          "output_type": "stream",
          "text": [
            "Mean: 11.177753, StandardDeviation: 4.071279\n",
            "Standardize data\n",
            "[2.33888328]\n",
            "[1.65113873]\n",
            "[1.87219948]\n",
            "[0.84058266]\n",
            "[1.13533032]\n",
            "Original Data after inverse transformation\n",
            "[20.7]\n",
            "[17.9]\n",
            "[18.8]\n",
            "[14.6]\n",
            "[15.8]\n"
          ],
          "name": "stdout"
        }
      ]
    },
    {
      "cell_type": "code",
      "metadata": {
        "id": "tFBGpndkZKxQ"
      },
      "source": [
        ""
      ],
      "execution_count": null,
      "outputs": []
    }
  ]
}